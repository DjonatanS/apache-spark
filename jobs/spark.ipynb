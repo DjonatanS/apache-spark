{
 "cells": [
  {
   "cell_type": "code",
   "execution_count": 1,
   "metadata": {},
   "outputs": [
    {
     "name": "stderr",
     "output_type": "stream",
     "text": [
      "Setting default log level to \"WARN\".\n",
      "To adjust logging level use sc.setLogLevel(newLevel). For SparkR, use setLogLevel(newLevel).\n",
      "24/11/29 03:55:17 WARN NativeCodeLoader: Unable to load native-hadoop library for your platform... using builtin-java classes where applicable\n"
     ]
    }
   ],
   "source": [
    "import unicodedata\n",
    "from os.path import abspath\n",
    "from pyspark.sql import SparkSession\n",
    "from pyspark.sql.functions import *\n",
    "from pyspark.sql.functions import regexp_replace\n",
    "from pyspark.sql.functions import when, col\n",
    "from http.cookies import SimpleCookie\n",
    "from pyspark.sql.functions import lower\n",
    "from pyspark.sql.types import IntegerType\n",
    "\n",
    "#config hive to use s3a\n",
    "spark = SparkSession.builder \\\n",
    "    .appName(\"crm-contatos\") \\\n",
    "    .config(\"spark.sql.warehouse.dir\", \"s3a://datawarehouse/\") \\\n",
    "    .config(\"spark.hadoop.fs.s3a.access.key\", \"ha3gC4VzJV2TVPIrfSCf\") \\\n",
    "    .config(\"spark.hadoop.fs.s3a.secret.key\", \"L35DCGTeKrL7ewWOvzwr1ZMb2H2kvtzsMsnDF4RY\") \\\n",
    "    .config(\"spark.hadoop.fs.s3a.endpoint\", \"http://172.19.0.2:9000\") \\\n",
    "    .config(\"spark.scheduler.mode\", \"FAIR\") \\\n",
    "    .master(\"spark://spark-master:7077\") \\\n",
    "    .getOrCreate()\n"
   ]
  },
  {
   "cell_type": "code",
   "execution_count": 2,
   "metadata": {},
   "outputs": [
    {
     "name": "stderr",
     "output_type": "stream",
     "text": [
      "24/11/29 03:55:21 WARN MetricsConfig: Cannot locate configuration: tried hadoop-metrics2-s3a-file-system.properties,hadoop-metrics2.properties\n",
      "                                                                                \r"
     ]
    }
   ],
   "source": [
    "df = spark.read.csv(\"data/sales_5000000.csv\", header=True, sep=\",\")"
   ]
  },
  {
   "cell_type": "code",
   "execution_count": 3,
   "metadata": {},
   "outputs": [],
   "source": [
    "dfhead = df.head(5)\n"
   ]
  },
  {
   "cell_type": "code",
   "execution_count": 4,
   "metadata": {},
   "outputs": [],
   "source": [
    "dfhead = spark.createDataFrame(dfhead)"
   ]
  },
  {
   "cell_type": "code",
   "execution_count": 5,
   "metadata": {},
   "outputs": [
    {
     "name": "stderr",
     "output_type": "stream",
     "text": [
      "                                                                                \r"
     ]
    }
   ],
   "source": [
    "dfhead.write.mode(\"overwrite\").parquet(\"s3a://datawarehouse/sales_5000000.parquet\")"
   ]
  }
 ],
 "metadata": {
  "kernelspec": {
   "display_name": "Python 3 (ipykernel)",
   "language": "python",
   "name": "python3"
  },
  "language_info": {
   "codemirror_mode": {
    "name": "ipython",
    "version": 3
   },
   "file_extension": ".py",
   "mimetype": "text/x-python",
   "name": "python",
   "nbconvert_exporter": "python",
   "pygments_lexer": "ipython3",
   "version": "3.11.10"
  }
 },
 "nbformat": 4,
 "nbformat_minor": 2
}
